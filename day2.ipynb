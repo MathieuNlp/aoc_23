{
 "cells": [
  {
   "cell_type": "code",
   "execution_count": 1,
   "metadata": {},
   "outputs": [],
   "source": [
    "my_cubes = {\"red\": 12, \"green\": 13, \"blue\": 14}"
   ]
  },
  {
   "cell_type": "code",
   "execution_count": 2,
   "metadata": {},
   "outputs": [],
   "source": [
    "with open(\"./data/day2.txt\", \"r\") as f:\n",
    "    data = f.read().splitlines()"
   ]
  },
  {
   "cell_type": "code",
   "execution_count": 63,
   "metadata": {},
   "outputs": [],
   "source": [
    "def preprocess_1(line_game: str, my_cubes: dict):\n",
    "    line = line_game.split(\": \")[1]\n",
    "    draws = line.split(\"; \")\n",
    "    for d in draws:\n",
    "        number_cube = d.split(\", \")\n",
    "        for elt in number_cube:\n",
    "            num_cube_color = elt.split(\" \")\n",
    "            if int(num_cube_color[0]) > my_cubes[num_cube_color[1]]:\n",
    "                return False\n",
    "    return True\n",
    "\n",
    "\n",
    "def preprocess_2(line_game: str):\n",
    "    dic = {\"red\": 0, \"blue\" : 0, \"green\": 0}\n",
    "    line = line_game.split(\": \")[1]\n",
    "    draws = line.split(\"; \")\n",
    "    for d in draws:\n",
    "        number_cube = d.split(\", \")\n",
    "        for elt in number_cube:\n",
    "            num_cube_color = elt.split(\" \")\n",
    "            if int(num_cube_color[0]) > dic[num_cube_color[1]]:\n",
    "                dic[num_cube_color[1]] = int(num_cube_color[0])\n",
    "    res = 1\n",
    "    for k in dic:\n",
    "        res *= dic[k]\n",
    "    return res\n",
    "\n",
    "        "
   ]
  },
  {
   "cell_type": "code",
   "execution_count": 65,
   "metadata": {},
   "outputs": [],
   "source": [
    "res = []\n",
    "# for k in range (len(data)):\n",
    "#     res.append(int(preprocess_1(data[k], my_cubes))*(k+1))\n",
    "\n",
    "for k in range (len(data)):\n",
    "    res.append(preprocess_2(data[k]))"
   ]
  },
  {
   "cell_type": "code",
   "execution_count": 66,
   "metadata": {},
   "outputs": [
    {
     "data": {
      "text/plain": [
       "68638"
      ]
     },
     "execution_count": 66,
     "metadata": {},
     "output_type": "execute_result"
    }
   ],
   "source": [
    "sum(res)"
   ]
  }
 ],
 "metadata": {
  "kernelspec": {
   "display_name": "cs224n",
   "language": "python",
   "name": "python3"
  },
  "language_info": {
   "codemirror_mode": {
    "name": "ipython",
    "version": 3
   },
   "file_extension": ".py",
   "mimetype": "text/x-python",
   "name": "python",
   "nbconvert_exporter": "python",
   "pygments_lexer": "ipython3",
   "version": "3.7.16"
  }
 },
 "nbformat": 4,
 "nbformat_minor": 2
}
