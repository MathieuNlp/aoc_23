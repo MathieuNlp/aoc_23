{
 "cells": [
  {
   "cell_type": "code",
   "execution_count": 1,
   "metadata": {},
   "outputs": [],
   "source": [
    "import numpy as np"
   ]
  },
  {
   "cell_type": "code",
   "execution_count": 2,
   "metadata": {},
   "outputs": [],
   "source": [
    "with open(\"./data/day3.txt\", \"r\") as f:\n",
    "    data = f.read().splitlines()"
   ]
  },
  {
   "cell_type": "code",
   "execution_count": 3,
   "metadata": {},
   "outputs": [],
   "source": [
    "test = \"\"\"467..114..\n",
    "...*......\n",
    "..35..633.\n",
    "......#...\n",
    "617*......\n",
    ".....+.58.\n",
    "..592.....\n",
    "......755.\n",
    "...$.*....\n",
    ".664.598..\n",
    "\"\"\"\n",
    "test = test.splitlines()"
   ]
  },
  {
   "cell_type": "code",
   "execution_count": 4,
   "metadata": {},
   "outputs": [
    {
     "name": "stdout",
     "output_type": "stream",
     "text": [
      "window (3, 3)\n"
     ]
    }
   ],
   "source": [
    "rows = len(test)\n",
    "cols = len(test[0])\n",
    "\n",
    "window = np.ones((3,3))\n",
    "print(\"window\", window.shape)"
   ]
  },
  {
   "cell_type": "code",
   "execution_count": 5,
   "metadata": {},
   "outputs": [
    {
     "data": {
      "text/plain": [
       "array([['4', '6', '7', '.', '.', '1', '1', '4', '.', '.'],\n",
       "       ['.', '.', '.', '*', '.', '.', '.', '.', '.', '.'],\n",
       "       ['.', '.', '3', '5', '.', '.', '6', '3', '3', '.'],\n",
       "       ['.', '.', '.', '.', '.', '.', '#', '.', '.', '.'],\n",
       "       ['6', '1', '7', '*', '.', '.', '.', '.', '.', '.'],\n",
       "       ['.', '.', '.', '.', '.', '+', '.', '5', '8', '.'],\n",
       "       ['.', '.', '5', '9', '2', '.', '.', '.', '.', '.'],\n",
       "       ['.', '.', '.', '.', '.', '.', '7', '5', '5', '.'],\n",
       "       ['.', '.', '.', '$', '.', '*', '.', '.', '.', '.'],\n",
       "       ['.', '6', '6', '4', '.', '5', '9', '8', '.', '.']], dtype='<U1')"
      ]
     },
     "execution_count": 5,
     "metadata": {},
     "output_type": "execute_result"
    }
   ],
   "source": [
    "schematic_matrix = np.array([list(x) for x in test])\n",
    "schematic_matrix"
   ]
  },
  {
   "cell_type": "code",
   "execution_count": 33,
   "metadata": {},
   "outputs": [],
   "source": [
    "def check_surrounding(matrix, i, j):\n",
    "    surround = [matrix[i-1, j], matrix[i+1, j], \n",
    "                matrix[i-1, j-1], matrix[i+1, j-1],\n",
    "                matrix[i-1, j+1], matrix[i+1, j+1],\n",
    "                matrix[i, j-1], matrix[i, j+1]]\n",
    "    print(surround)\n",
    "    for elt in surround:\n",
    "        if elt != \".\" and elt.isdigit() == False:\n",
    "            num = get_number(matrix, i, j)\n",
    "            return num  \n",
    "    return False\n",
    "\n",
    "    \n",
    "def get_number(matrix, i, j):\n",
    "    L_count = 0\n",
    "    R_count = 0\n",
    "    L = 1\n",
    "    R = 1\n",
    "    while L_count == 0 or R_count == 0:\n",
    "        if matrix[i, j-L].isdigit() == True and j-L > 0:\n",
    "            L +=1\n",
    "        else:\n",
    "            L_count = 1\n",
    "        if matrix[i, j+R].isdigit() == True and j+R <matrix.shape[1]:\n",
    "            R +=1\n",
    "        else:\n",
    "            R_count = 1\n",
    "    print(L, R)\n",
    "    print(matrix[i, j-L+1:j+R])"
   ]
  },
  {
   "cell_type": "code",
   "execution_count": 34,
   "metadata": {},
   "outputs": [
    {
     "name": "stdout",
     "output_type": "stream",
     "text": [
      "['.', '.', '.', '.', '+', '.', '9', '.']\n",
      "3 1\n",
      "['5' '9' '2']\n"
     ]
    }
   ],
   "source": [
    "a = check_surrounding(schematic_matrix, 6, 4)"
   ]
  },
  {
   "cell_type": "code",
   "execution_count": null,
   "metadata": {},
   "outputs": [],
   "source": []
  },
  {
   "cell_type": "code",
   "execution_count": null,
   "metadata": {},
   "outputs": [],
   "source": []
  }
 ],
 "metadata": {
  "kernelspec": {
   "display_name": "cs224n",
   "language": "python",
   "name": "python3"
  },
  "language_info": {
   "codemirror_mode": {
    "name": "ipython",
    "version": 3
   },
   "file_extension": ".py",
   "mimetype": "text/x-python",
   "name": "python",
   "nbconvert_exporter": "python",
   "pygments_lexer": "ipython3",
   "version": "3.7.16"
  }
 },
 "nbformat": 4,
 "nbformat_minor": 2
}
